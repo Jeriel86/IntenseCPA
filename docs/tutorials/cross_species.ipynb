{
 "cells": [
  {
   "attachments": {},
   "cell_type": "markdown",
   "id": "bf8a9058-67e6-40f2-b855-7a5a6776b7a7",
   "metadata": {},
   "source": [
    "# Predicting perturbation responses for unseen cell-types (context transfer)"
   ]
  },
  {
   "attachments": {},
   "cell_type": "markdown",
   "id": "1d2c95de",
   "metadata": {},
   "source": [
    "In this tutorial, we will train and evaluate a CPA model on the preprocessed Kang PBMC dataset (See Sup Figures 2-3 [here](https://www.embopress.org/action/downloadSupplement?doi=10.15252%2Fmsb.202211517&file=msb202211517-sup-0001-Appendix.pdf) for a deeper dive).\n",
    "\n",
    "The following steps are going to be covered:\n",
    "1. Setting up environment\n",
    "2. Loading the dataset\n",
    "3. Preprocessing the dataset\n",
    "4. Creating a CPA model\n",
    "5. Training the model\n",
    "6. Latent space visualisation\n",
    "7. Prediction evaluation across different perturbations"
   ]
  },
  {
   "cell_type": "markdown",
   "id": "93c6769c",
   "metadata": {},
   "source": [
    "## Setting up environment"
   ]
  },
  {
   "cell_type": "code",
   "id": "fb784181-b262-4822-bd8b-c718072b678f",
   "metadata": {},
   "source": [
    "import sys\n",
    "#if branch is stable, will install via pypi, else will install from source\n",
    "branch = \"latest\"\n",
    "IN_COLAB = \"google.colab\" in sys.modules\n",
    "\n",
    "if IN_COLAB and branch == \"stable\":\n",
    "    !pip install cpa-tools\n",
    "    !pip install scanpy\n",
    "elif IN_COLAB and branch != \"stable\":\n",
    "    !pip install --quiet --upgrade jsonschema\n",
    "    !pip install git+https://github.com/theislab/cpa\n",
    "    !pip install scanpy"
   ],
   "outputs": [],
   "execution_count": null
  },
  {
   "cell_type": "code",
   "id": "1c687c31-96f4-49cc-8429-ef774c966c8a",
   "metadata": {},
   "source": [
    "import os\n",
    "print(\"Current directory:\", os.getcwd())\n",
    "os.chdir(\"../..\")\n",
    "# Verify the new directory\n",
    "print(\"New directory:\", os.getcwd())\n",
    "current_dir = os.getcwd()\n",
    "# os.environ['CUDA_VISIBLE_DEVICES'] = '0'"
   ],
   "outputs": [],
   "execution_count": null
  },
  {
   "cell_type": "code",
   "id": "38be1499-86dc-4465-873f-b994e5f4a21a",
   "metadata": {},
   "source": [
    "import cpa\n",
    "import scanpy as sc"
   ],
   "outputs": [],
   "execution_count": null
  },
  {
   "cell_type": "code",
   "id": "2f18cb22-1c6e-4329-b965-1fcabd978dbe",
   "metadata": {},
   "source": [
    "sc.settings.set_figure_params(dpi=100)"
   ],
   "outputs": [],
   "execution_count": null
  },
  {
   "cell_type": "code",
   "id": "504bd1f9-945e-4ee1-ac7b-4f6ea19fb2a6",
   "metadata": {
    "ExecuteTime": {
     "end_time": "2025-05-11T20:50:02.975244Z",
     "start_time": "2025-05-11T20:50:02.957641Z"
    }
   },
   "source": [
    "data_path = os.path.join(current_dir, \"datasets\", \"cross_species_new.h5ad\")\n",
    "print(data_path)"
   ],
   "outputs": [
    {
     "name": "stdout",
     "output_type": "stream",
     "text": [
      "/Users/jeriel/Documents/WS24:25/MA/cpa/datasets/cross_species_new.h5ad\n"
     ]
    }
   ],
   "execution_count": 18
  },
  {
   "attachments": {},
   "cell_type": "markdown",
   "id": "491261f0",
   "metadata": {},
   "source": [
    "## Loading dataset\n",
    "\n",
    "The preprocessed Kang PBMC dataset with `h5ad` extension used for saving/loading anndata objects is publicly available in the [Google Drive](https://drive.google.com/drive/u/0/folders/1yFB0gBr72_KLLp1asojxTgTqgz6cwpju) and can be loaded using the `sc.read` function with the `backup_url` argument. The datasets is normalized & pre-processed using `scanpy`. Top 5000 highly variable genes are selected. "
   ]
  },
  {
   "cell_type": "code",
   "id": "d4e06d9e-ecb3-4014-a03d-80ea8b4d8820",
   "metadata": {
    "ExecuteTime": {
     "end_time": "2025-05-11T21:26:56.077795Z",
     "start_time": "2025-05-11T21:21:39.458792Z"
    }
   },
   "source": [
    "try:\n",
    "    adata = sc.read(data_path)\n",
    "except:\n",
    "    import gdown\n",
    "    gdown.download('https://drive.google.com/uc?export=download&id=1z8gGKQ6oDoi2blCU2IVihKA38h5fORRp')\n",
    "    data_path = data_path\n",
    "    adata = sc.read(data_path)\n",
    "\n",
    "adata"
   ],
   "outputs": [
    {
     "name": "stderr",
     "output_type": "stream",
     "text": [
      "/Applications/PyCharm.app/Contents/plugins/python/helpers/pydev/_pydevd_bundle/pydevd_resolver.py:178: DeprecationWarning: Use is_view instead of isview, isview will be removed in the future.\n",
      "  attr = getattr(var, n)\n"
     ]
    },
    {
     "ename": "KeyboardInterrupt",
     "evalue": "",
     "output_type": "error",
     "traceback": [
      "\u001B[0;31m---------------------------------------------------------------------------\u001B[0m",
      "\u001B[0;31mKeyboardInterrupt\u001B[0m                         Traceback (most recent call last)",
      "Cell \u001B[0;32mIn[25], line 9\u001B[0m\n\u001B[1;32m      6\u001B[0m     data_path \u001B[38;5;241m=\u001B[39m data_path\n\u001B[1;32m      7\u001B[0m     adata \u001B[38;5;241m=\u001B[39m sc\u001B[38;5;241m.\u001B[39mread(data_path)\n\u001B[0;32m----> 9\u001B[0m \u001B[43madata\u001B[49m\n",
      "Cell \u001B[0;32mIn[25], line 9\u001B[0m\n\u001B[1;32m      6\u001B[0m     data_path \u001B[38;5;241m=\u001B[39m data_path\n\u001B[1;32m      7\u001B[0m     adata \u001B[38;5;241m=\u001B[39m sc\u001B[38;5;241m.\u001B[39mread(data_path)\n\u001B[0;32m----> 9\u001B[0m \u001B[43madata\u001B[49m\n",
      "File \u001B[0;32m_pydevd_bundle/pydevd_cython_darwin_39_64.pyx:1187\u001B[0m, in \u001B[0;36m_pydevd_bundle.pydevd_cython_darwin_39_64.SafeCallWrapper.__call__\u001B[0;34m()\u001B[0m\n",
      "File \u001B[0;32m_pydevd_bundle/pydevd_cython_darwin_39_64.pyx:627\u001B[0m, in \u001B[0;36m_pydevd_bundle.pydevd_cython_darwin_39_64.PyDBFrame.trace_dispatch\u001B[0;34m()\u001B[0m\n",
      "File \u001B[0;32m_pydevd_bundle/pydevd_cython_darwin_39_64.pyx:937\u001B[0m, in \u001B[0;36m_pydevd_bundle.pydevd_cython_darwin_39_64.PyDBFrame.trace_dispatch\u001B[0;34m()\u001B[0m\n",
      "File \u001B[0;32m_pydevd_bundle/pydevd_cython_darwin_39_64.pyx:928\u001B[0m, in \u001B[0;36m_pydevd_bundle.pydevd_cython_darwin_39_64.PyDBFrame.trace_dispatch\u001B[0;34m()\u001B[0m\n",
      "File \u001B[0;32m_pydevd_bundle/pydevd_cython_darwin_39_64.pyx:585\u001B[0m, in \u001B[0;36m_pydevd_bundle.pydevd_cython_darwin_39_64.PyDBFrame.do_wait_suspend\u001B[0;34m()\u001B[0m\n",
      "File \u001B[0;32m/Applications/PyCharm.app/Contents/plugins/python/helpers/pydev/pydevd.py:1185\u001B[0m, in \u001B[0;36mPyDB.do_wait_suspend\u001B[0;34m(self, thread, frame, event, arg, send_suspend_message, is_unhandled_exception)\u001B[0m\n\u001B[1;32m   1182\u001B[0m         from_this_thread\u001B[38;5;241m.\u001B[39mappend(frame_id)\n\u001B[1;32m   1184\u001B[0m \u001B[38;5;28;01mwith\u001B[39;00m \u001B[38;5;28mself\u001B[39m\u001B[38;5;241m.\u001B[39m_threads_suspended_single_notification\u001B[38;5;241m.\u001B[39mnotify_thread_suspended(thread_id, stop_reason):\n\u001B[0;32m-> 1185\u001B[0m     \u001B[38;5;28;43mself\u001B[39;49m\u001B[38;5;241;43m.\u001B[39;49m\u001B[43m_do_wait_suspend\u001B[49m\u001B[43m(\u001B[49m\u001B[43mthread\u001B[49m\u001B[43m,\u001B[49m\u001B[43m \u001B[49m\u001B[43mframe\u001B[49m\u001B[43m,\u001B[49m\u001B[43m \u001B[49m\u001B[43mevent\u001B[49m\u001B[43m,\u001B[49m\u001B[43m \u001B[49m\u001B[43marg\u001B[49m\u001B[43m,\u001B[49m\u001B[43m \u001B[49m\u001B[43msuspend_type\u001B[49m\u001B[43m,\u001B[49m\u001B[43m \u001B[49m\u001B[43mfrom_this_thread\u001B[49m\u001B[43m)\u001B[49m\n",
      "File \u001B[0;32m/Applications/PyCharm.app/Contents/plugins/python/helpers/pydev/pydevd.py:1200\u001B[0m, in \u001B[0;36mPyDB._do_wait_suspend\u001B[0;34m(self, thread, frame, event, arg, suspend_type, from_this_thread)\u001B[0m\n\u001B[1;32m   1197\u001B[0m             \u001B[38;5;28mself\u001B[39m\u001B[38;5;241m.\u001B[39m_call_mpl_hook()\n\u001B[1;32m   1199\u001B[0m         \u001B[38;5;28mself\u001B[39m\u001B[38;5;241m.\u001B[39mprocess_internal_commands()\n\u001B[0;32m-> 1200\u001B[0m         \u001B[43mtime\u001B[49m\u001B[38;5;241;43m.\u001B[39;49m\u001B[43msleep\u001B[49m\u001B[43m(\u001B[49m\u001B[38;5;241;43m0.01\u001B[39;49m\u001B[43m)\u001B[49m\n\u001B[1;32m   1202\u001B[0m \u001B[38;5;28mself\u001B[39m\u001B[38;5;241m.\u001B[39mcancel_async_evaluation(get_current_thread_id(thread), \u001B[38;5;28mstr\u001B[39m(\u001B[38;5;28mid\u001B[39m(frame)))\n\u001B[1;32m   1204\u001B[0m \u001B[38;5;66;03m# process any stepping instructions\u001B[39;00m\n",
      "\u001B[0;31mKeyboardInterrupt\u001B[0m: "
     ]
    }
   ],
   "execution_count": 25
  },
  {
   "attachments": {},
   "cell_type": "markdown",
   "id": "f53d710f",
   "metadata": {},
   "source": [
    "Next, we just replace `adata.X` with raw counts to be able to train CPA with Negative Binomial (NB) or Zero-Inflated Negative Binomial (ZINB) loss."
   ]
  },
  {
   "metadata": {
    "ExecuteTime": {
     "end_time": "2025-05-11T20:50:42.537230Z",
     "start_time": "2025-05-11T20:50:41.929823Z"
    }
   },
   "cell_type": "code",
   "source": "adata.X = adata.layers['counts'].copy()",
   "id": "47f1ad4188351806",
   "outputs": [],
   "execution_count": 21
  },
  {
   "metadata": {
    "ExecuteTime": {
     "end_time": "2025-05-11T21:28:15.136964Z",
     "start_time": "2025-05-11T21:28:15.091649Z"
    }
   },
   "cell_type": "code",
   "source": "adata.obs['cov_drug_dose_name'].unique()",
   "id": "ee9ab93421383ae6",
   "outputs": [
    {
     "data": {
      "text/plain": [
       "['rat_LPS_0.6666666666666666', 'mouse_LPS_0.3333333333333333', 'mouse_unst_1.0', 'pig_LPS_0.6666666666666666', 'pig_LPS_0.3333333333333333', ..., 'rabbit_LPS_0.6666666666666666', 'rabbit_unst_1.0', 'rat_LPS_1.0', 'rabbit_LPS_0.3333333333333333', 'pig_LPS_1.0']\n",
       "Length: 16\n",
       "Categories (16, object): ['mouse_LPS_0.3333333333333333', 'mouse_LPS_0.6666666666666666', 'mouse_LPS_1.0', 'mouse_unst_1.0', ..., 'rat_LPS_0.3333333333333333', 'rat_LPS_0.6666666666666666', 'rat_LPS_1.0', 'rat_unst_1.0']"
      ]
     },
     "execution_count": 27,
     "metadata": {},
     "output_type": "execute_result"
    }
   ],
   "execution_count": 27
  },
  {
   "attachments": {},
   "cell_type": "markdown",
   "id": "67374fdb",
   "metadata": {},
   "source": [
    "## Dataset setup\n",
    "Now is the time to setup the dataset for CPA to prepare the dataset for training. Just like scvi-tools models, you can call `cpa.CPA.setup_anndata` to setup your data. This function will accept the following arguments:\n",
    "\n",
    "- `adata`: AnnData object containing the data to be preprocessed\n",
    "- `perturbation_key`: The key in `adata.obs` that contains the perturbation information\n",
    "- `control_group`: The name of the control group in `perturbation_key`\n",
    "- `batch_key`: The key in `adata.obs` that contains the batch information\n",
    "- `dosage_key`: The key in `adata.obs` that contains the dosage information\n",
    "- `categorical_covariate_keys`: A list of keys in `adata.obs` that contain categorical covariates\n",
    "- `is_count_data`: Whether the `adata.X` is count data or not\n",
    "- `deg_uns_key`: The key in `adata.uns` that contains the differential expression results\n",
    "- `deg_uns_cat_key`: The key in `adata.obs` that contains the category information of each cell which can be used as to access differential expression results in `adata.uns[deg_uns_key]`. For example, if `deg_uns_key` is `rank_genes_groups_cov` and `deg_uns_cat_key` is `cov_cond`, then `adata.uns[deg_uns_key][cov_cond]` will contain the differential expression results for each category in `cov_cond`.\n",
    "- `max_comb_len`: The maximum number of perturbations that are applied to each cell. For example, if `max_comb_len` is 2, then the model will be trained to predict the effect of single perturbations and the effect of double perturbations."
   ]
  },
  {
   "cell_type": "markdown",
   "id": "58d468fa",
   "metadata": {},
   "source": [
    "We will create a dummy dosage variable for each condition (control, IFN-beta stimulated). It is recommended to use Identity (i.e. doser_type = 'identity') for dosage scaling function when there is no dosage information available."
   ]
  },
  {
   "cell_type": "code",
   "id": "6c66f161",
   "metadata": {
    "ExecuteTime": {
     "end_time": "2025-05-11T21:28:47.575681Z",
     "start_time": "2025-05-11T21:28:47.560283Z"
    }
   },
   "source": "adata.obs['condition'].value_counts()",
   "outputs": [
    {
     "data": {
      "text/plain": [
       "condition\n",
       "LPS     83643\n",
       "unst    29757\n",
       "Name: count, dtype: int64"
      ]
     },
     "execution_count": 28,
     "metadata": {},
     "output_type": "execute_result"
    }
   ],
   "execution_count": 28
  },
  {
   "cell_type": "code",
   "id": "83ecfa9e",
   "metadata": {},
   "source": [
    "adata.obs['cell_type'].value_counts()"
   ],
   "outputs": [],
   "execution_count": null
  },
  {
   "cell_type": "code",
   "id": "51a483c8",
   "metadata": {},
   "source": "adata.obs['split'].value_counts()",
   "outputs": [],
   "execution_count": null
  },
  {
   "metadata": {
    "ExecuteTime": {
     "end_time": "2025-05-11T20:50:52.139619Z",
     "start_time": "2025-05-11T20:50:52.123302Z"
    }
   },
   "cell_type": "code",
   "source": "adata.obs['cov_drug_dose_name'].value_counts()",
   "id": "5269f5e0139a0a86",
   "outputs": [
    {
     "data": {
      "text/plain": [
       "cov_drug_dose_name\n",
       "mouse_LPS_0.3333333333333333     10018\n",
       "mouse_LPS_0.6666666666666666      9191\n",
       "rabbit_LPS_0.3333333333333333     8793\n",
       "rabbit_unst_1.0                   8632\n",
       "mouse_unst_1.0                    8576\n",
       "rat_LPS_1.0                       7827\n",
       "rat_LPS_0.3333333333333333        7025\n",
       "rabbit_LPS_1.0                    6815\n",
       "rat_unst_1.0                      6593\n",
       "pig_LPS_0.6666666666666666        6527\n",
       "pig_unst_1.0                      5956\n",
       "rabbit_LPS_0.6666666666666666     5850\n",
       "rat_LPS_0.6666666666666666        5755\n",
       "pig_LPS_0.3333333333333333        5459\n",
       "mouse_LPS_1.0                     5280\n",
       "pig_LPS_1.0                       5103\n",
       "Name: count, dtype: int64"
      ]
     },
     "execution_count": 22,
     "metadata": {},
     "output_type": "execute_result"
    }
   ],
   "execution_count": 22
  },
  {
   "cell_type": "code",
   "id": "fb8f237c-1efb-45e6-a089-266e333a603d",
   "metadata": {},
   "source": [
    "cpa.CPA.setup_anndata(adata, \n",
    "                      perturbation_key='condition',\n",
    "                      control_group='control',\n",
    "                      dosage_key='dose_val',\n",
    "                      categorical_covariate_keys=['cell_type'],\n",
    "                      is_count_data=True,\n",
    "                      deg_uns_key='rank_genes_groups_cov',\n",
    "                      deg_uns_cat_key='cov_drug_dose_name',\n",
    "                      max_comb_len=1,\n",
    "                     )"
   ],
   "outputs": [],
   "execution_count": null
  },
  {
   "cell_type": "code",
   "id": "6fcc8a93-e430-4ad4-9681-60589edd4d9c",
   "metadata": {},
   "source": [
    "model_params = {\n",
    "    \"n_latent\": 64,\n",
    "    \"recon_loss\": \"nb\",\n",
    "    \"doser_type\": \"linear\",\n",
    "    \"n_hidden_encoder\": 128,\n",
    "    \"n_layers_encoder\": 2,\n",
    "    \"n_hidden_decoder\": 512,\n",
    "    \"n_layers_decoder\": 2,\n",
    "    \"use_batch_norm_encoder\": True,\n",
    "    \"use_layer_norm_encoder\": False,\n",
    "    \"use_batch_norm_decoder\": False,\n",
    "    \"use_layer_norm_decoder\": True,\n",
    "    \"dropout_rate_encoder\": 0.0,\n",
    "    \"dropout_rate_decoder\": 0.1,\n",
    "    \"variational\": False,\n",
    "    \"seed\": 6977,\n",
    "    \"use_intense\": True\n",
    "}\n",
    "\n",
    "trainer_params = {\n",
    "    \"n_epochs_kl_warmup\": None,\n",
    "    \"n_epochs_pretrain_ae\": 30,\n",
    "    \"n_epochs_adv_warmup\": 50,\n",
    "    \"n_epochs_mixup_warmup\": 0,\n",
    "    \"mixup_alpha\": 0.0,\n",
    "    \"adv_steps\": None,\n",
    "    \"n_hidden_adv\": 64,\n",
    "    \"n_layers_adv\": 3,\n",
    "    \"use_batch_norm_adv\": True,\n",
    "    \"use_layer_norm_adv\": False,\n",
    "    \"dropout_rate_adv\": 0.3,\n",
    "    \"reg_adv\": 20.0,\n",
    "    \"pen_adv\": 5.0,\n",
    "    \"lr\": 0.0003,\n",
    "    \"wd\": 4e-07,\n",
    "    \"adv_lr\": 0.0003,\n",
    "    \"adv_wd\": 4e-07,\n",
    "    \"adv_loss\": \"cce\",\n",
    "    \"doser_lr\": 0.0003,\n",
    "    \"doser_wd\": 4e-07,\n",
    "    \"do_clip_grad\": True,\n",
    "    \"gradient_clip_value\": 1.0,\n",
    "    \"step_size_lr\": 10,\n",
    "}"
   ],
   "outputs": [],
   "execution_count": null
  },
  {
   "attachments": {},
   "cell_type": "markdown",
   "id": "67384d6c",
   "metadata": {},
   "source": [
    "## CPA Model\n",
    "\n",
    "You can create a CPA model by creating an object from `cpa.CPA` class. The constructor of this class takes the following arguments:\n",
    "**Data related parameters:** \n",
    "- `adata`: AnnData object containing train/valid/test data\n",
    "- `split_key`: The key in `adata.obs` that contains the split information\n",
    "- `train_split`: The value in `split_key` that corresponds to the training data\n",
    "- `valid_split`: The value in `split_key` that corresponds to the validation data\n",
    "- `test_split`: The value in `split_key` that corresponds to the test data\n",
    "**Model architecture parameters:**\n",
    "- `n_latent`: Number of latent dimensions\n",
    "- `recon_loss`: Reconstruction loss function. Currently, Supported losses are `nb`, `zinb`, and `gauss`.\n",
    "- `n_hidden_encoder`: Number of hidden units in the encoder\n",
    "- `n_layers_encoder`: Number of layers in the encoder\n",
    "- `n_hidden_decoder`: Number of hidden units in the decoder\n",
    "- `n_layers_decoder`: Number of layers in the decoder\n",
    "- `use_batch_norm_encoder`: Whether to use batch normalization in the encoder\n",
    "- `use_layer_norm_encoder`: Whether to use layer normalization in the encoder\n",
    "- `use_batch_norm_decoder`: Whether to use batch normalization in the decoder\n",
    "- `use_layer_norm_decoder`: Whether to use layer normalization in the decoder\n",
    "- `dropout_rate_encoder`: Dropout rate in the encoder\n",
    "- `dropout_rate_decoder`: Dropout rate in the decoder\n",
    "- `variational`: Whether to use variational inference. NOTE: False is highly recommended.\n",
    "- `seed`: Random seed"
   ]
  },
  {
   "cell_type": "markdown",
   "id": "f939f18f",
   "metadata": {},
   "source": [
    "In this notebook, we left out `B` cells treated with  `IFN-beta` from the training dataset (OOD set) and randomly split the remaining cells into train/valid sets. The split information is stored in `adata.obs['split_B']` column. We would like to see if the model can predict how `B` cells can respond to `IFN-beta` stimulation."
   ]
  },
  {
   "cell_type": "code",
   "id": "e50d3962",
   "metadata": {},
   "source": [
    "model = cpa.CPA(adata=adata, \n",
    "                split_key='split',\n",
    "                train_split='train',\n",
    "                valid_split='test',\n",
    "                test_split='ood',\n",
    "                **model_params,\n",
    "               )"
   ],
   "outputs": [],
   "execution_count": null
  },
  {
   "attachments": {},
   "cell_type": "markdown",
   "id": "b1103fdf",
   "metadata": {},
   "source": [
    "## Training CPA\n",
    "\n",
    "In order to train your CPA model, you need to use `train` function of your `model`. This function accepts the following parameters:\n",
    "- `max_epochs`: Maximum number of epochs to train the model. CPA generally converges after high number of epochs, so you can set this to a high value.\n",
    "- `use_gpu`: If you have a GPU, you can set this to `True` to speed up the training process.\n",
    "- `batch_size`: Batch size for training. You can set this to a high value (e.g. 512, 1024, 2048) if you have a GPU. \n",
    "- `plan_kwargs`: dictionary of parameters passed the CPA's `TrainingPlan`. You can set the following parameters:\n",
    "    * `n_epochs_adv_warmup`: Number of epochs to linearly increase the weight of adversarial loss. \n",
    "    * `n_epochs_mixup_warmup`: Number of epochs to linearly increase the weight of mixup loss.\n",
    "    * `n_epochs_pretrain_ae`: Number of epochs to pretrain the autoencoder.\n",
    "    * `lr`: Learning rate for training autoencoder.\n",
    "    * `wd`: Weight decay for training autoencoder.\n",
    "    * `adv_lr`: Learning rate for training adversary.\n",
    "    * `adv_wd`: Weight decay for training adversary.\n",
    "    * `adv_steps`: Number of steps to train adversary for each step of autoencoder.\n",
    "    * `reg_adv`: Maximum Weight of adversarial loss.\n",
    "    * `pen_adv`: Penalty weight of adversarial loss.\n",
    "    * `n_layers_adv`: Number of layers in adversary.\n",
    "    * `n_hidden_adv`: Number of hidden units in adversary.\n",
    "    * `use_batch_norm_adv`: Whether to use batch normalization in adversary.\n",
    "    * `use_layer_norm_adv`: Whether to use layer normalization in adversary.\n",
    "    * `dropout_rate_adv`: Dropout rate in adversary.\n",
    "    * `step_size_lr`: Step size for learning rate scheduler.\n",
    "    * `do_clip_grad`: Whether to clip gradients by norm.\n",
    "    * `clip_grad_value`: Maximum value of gradient norm.\n",
    "    * `adv_loss`: Type of adversarial loss. Can be either `cce` for Cross Entropy loss or `focal` for Focal loss.\n",
    "    * `n_epochs_verbose`: Number of epochs to print latent information disentanglement evaluation.\n",
    "- `early_stopping_patience`: Number of epochs to wait before stopping training if validation metric does not improve.\n",
    "- `check_val_every_n_epoch`: Number of epochs to wait before running validation.\n",
    "- `save_path`: Path to save the best model after training.\n",
    "\n"
   ]
  },
  {
   "cell_type": "code",
   "id": "b0f6ca89-9886-449f-a9c3-5c2421883a41",
   "metadata": {
    "tags": []
   },
   "source": [
    "model.train(max_epochs=2000,\n",
    "            use_gpu=False, \n",
    "            batch_size=512,\n",
    "            plan_kwargs=trainer_params,\n",
    "            early_stopping_patience=5,\n",
    "            check_val_every_n_epoch=5,\n",
    "            save_path= os.path.join(current_dir,'lightning_logs','Kang' )\n",
    "           )"
   ],
   "outputs": [],
   "execution_count": null
  },
  {
   "cell_type": "code",
   "id": "d71e0099-912b-402e-afb6-a3f920076b3d",
   "metadata": {},
   "source": [
    "cpa.pl.plot_history(model)"
   ],
   "outputs": [],
   "execution_count": null
  },
  {
   "attachments": {},
   "cell_type": "markdown",
   "id": "f2deb470",
   "metadata": {},
   "source": [
    "## Restore best model\n",
    "\n",
    "In case you have already saved your pretrained model, you can restore it using the following code. The `cpa.CPA.load` function accepts the following arguments:\n",
    "- `dir_path`: path to the directory where the model is saved\n",
    "- `adata`: anndata object\n",
    "- `use_gpu`: whether to use GPU or not\n"
   ]
  },
  {
   "cell_type": "code",
   "id": "ddb437f6",
   "metadata": {},
   "source": [
    "# model = cpa.CPA.load(dir_path='/home/mohsen/projects/cpa/lightning_logs/Kang/',\n",
    "#                      adata=adata,\n",
    "#                      use_gpu=True)"
   ],
   "outputs": [],
   "execution_count": null
  },
  {
   "attachments": {},
   "cell_type": "markdown",
   "id": "e565339b",
   "metadata": {},
   "source": [
    "## Latent Space Visualization\n",
    "\n",
    "latent vectors of all cells can be computed with `get_latent_representation` function. This function produces a python dictionary with the following keys:\n",
    "- `latent_basal`: latent vectors of all cells in basal state of autoencoder\n",
    "- `latent_after`: final latent vectors which can be used for decoding\n",
    "- `latent_corrected`: batch-corrected latents if batch_key was provided"
   ]
  },
  {
   "cell_type": "code",
   "id": "07a6a36f",
   "metadata": {},
   "source": [
    "latent_outputs = model.get_latent_representation(adata, batch_size=2048)"
   ],
   "outputs": [],
   "execution_count": null
  },
  {
   "cell_type": "code",
   "id": "2d1bcd26",
   "metadata": {},
   "source": [
    "latent_outputs.keys()"
   ],
   "outputs": [],
   "execution_count": null
  },
  {
   "cell_type": "code",
   "id": "be3115be",
   "metadata": {},
   "source": [
    "sc.pp.neighbors(latent_outputs['latent_basal'])\n",
    "sc.tl.umap(latent_outputs['latent_basal'])"
   ],
   "outputs": [],
   "execution_count": null
  },
  {
   "cell_type": "markdown",
   "id": "2866db2a-191d-47d4-9a9a-cb312834b9ba",
   "metadata": {},
   "source": [
    "As observed below, the basal representation should be free of the variation(s) of the `condition` and `cell_type`. "
   ]
  },
  {
   "cell_type": "code",
   "id": "40462709",
   "metadata": {},
   "source": [
    "sc.pl.umap(latent_outputs['latent_basal'], \n",
    "           color=['condition', 'cell_type'],\n",
    "           frameon=False, \n",
    "           wspace=0.3)"
   ],
   "outputs": [],
   "execution_count": null
  },
  {
   "cell_type": "code",
   "id": "589c9925",
   "metadata": {},
   "source": [
    "sc.pp.neighbors(latent_outputs['latent_after'])\n",
    "sc.tl.umap(latent_outputs['latent_after'])"
   ],
   "outputs": [],
   "execution_count": null
  },
  {
   "cell_type": "markdown",
   "id": "5343dd9c-b1eb-4a00-bda5-087364d53c50",
   "metadata": {},
   "source": [
    "Here, you can visualize that when the `condition` and `cell_type` embeddings are added to the basal representation,\n",
    "As you can see now cell types and conditions are separated. "
   ]
  },
  {
   "cell_type": "code",
   "id": "bd85707c",
   "metadata": {},
   "source": [
    "sc.pl.umap(latent_outputs['latent_after'], \n",
    "           color=['condition', 'cell_type'], \n",
    "           frameon=False,\n",
    "           wspace=0.3)"
   ],
   "outputs": [],
   "execution_count": null
  },
  {
   "cell_type": "markdown",
   "id": "7011c498-8fbe-41f2-ad12-f2b53cbf6bda",
   "metadata": {},
   "source": [
    "## Evaluation\n"
   ]
  },
  {
   "cell_type": "markdown",
   "id": "6665c3c2",
   "metadata": {},
   "source": [
    "To evaluate the model's prediction performance, we can use `model.predict()` function. $R^2$ score for each combination of `<cell_type, stimulated>` is computed over mean statistics of the top 50, 20, and 10 DEGs (including all genes). CPA transfers the context from control to IFN-beta stimulated for each cell type. Next, we will evaluate the model's prediction performance on the whole dataset, including OOD (test) cells. The model will report metrics on how well we have\n",
    "captured the variation in top `n` differentially expressed genes when compared to control cells\n",
    "(`CTRL`)  for each condition. The metrics calculate the mean accuracy (`r2_mean_deg`), the variance (`r2_var_deg`) and similar metrics (`r2_mean_lfc_deg` and `log fold change`)to measure the log fold change of the predicted cells vs control`((LFC(control, ground truth) ~ LFC(control, predicted cells))`.  The `R2` is the `sklearn.metrics.r2_score` from [sklearn](https://scikit-learn.org/stable/modules/generated/sklearn.metrics.r2_score.html)."
   ]
  },
  {
   "cell_type": "code",
   "id": "1f4a67ab",
   "metadata": {},
   "source": [
    "model.predict(adata, batch_size=2048)"
   ],
   "outputs": [],
   "execution_count": null
  },
  {
   "cell_type": "code",
   "id": "178dc210",
   "metadata": {
    "ExecuteTime": {
     "start_time": "2025-05-11T21:31:41.357124Z"
    }
   },
   "source": [
    "import numpy as np\n",
    "import pandas as pd\n",
    "from sklearn.metrics import r2_score\n",
    "from collections import defaultdict\n",
    "from tqdm import tqdm\n",
    "\n",
    "n_top_degs = [10, 20, 50, None] # None means all genes\n",
    "\n",
    "results = defaultdict(list)\n",
    "for cat in tqdm(adata.obs['cov_drug_dose_name'].unique()):\n",
    "    if 'control' not in cat:\n",
    "        cov, condition = cat.split('_')\n",
    "        cat_adata = adata[adata.obs['cov_drug_dose_name'] == cat].copy()\n",
    "        ctrl_adata = adata[adata.obs['condition'] == 'control'].copy()\n",
    "\n",
    "        deg_cat = f'{cat}'\n",
    "        deg_list = adata.uns['rank_genes_groups_cov'][deg_cat]\n",
    "        \n",
    "        x_true = cat_adata.layers['counts']\n",
    "        x_pred = cat_adata.obsm['CPA_pred']\n",
    "        x_ctrl = ctrl_adata.layers['counts']\n",
    "\n",
    "        x_true = np.log1p(x_true)\n",
    "        x_pred = np.log1p(x_pred)\n",
    "        x_ctrl = np.log1p(x_ctrl)\n",
    "\n",
    "        for n_top_deg in n_top_degs:\n",
    "            if n_top_deg is not None:\n",
    "                degs = np.where(np.isin(adata.var_names, deg_list[:n_top_deg]))[0]\n",
    "            else:\n",
    "                degs = np.arange(adata.n_vars)\n",
    "                n_top_deg = 'all'\n",
    "                \n",
    "            x_true_deg = x_true[:, degs]\n",
    "            x_pred_deg = x_pred[:, degs]\n",
    "            x_ctrl_deg = x_ctrl[:, degs]\n",
    "            \n",
    "            r2_mean_deg = r2_score(x_true_deg.mean(0), x_pred_deg.mean(0))\n",
    "            r2_var_deg = r2_score(x_true_deg.var(0), x_pred_deg.var(0))\n",
    "\n",
    "            r2_mean_lfc_deg = r2_score(x_true_deg.mean(0) - x_ctrl_deg.mean(0), x_pred_deg.mean(0) - x_ctrl_deg.mean(0))\n",
    "            r2_var_lfc_deg = r2_score(x_true_deg.var(0) - x_ctrl_deg.var(0), x_pred_deg.var(0) - x_ctrl_deg.var(0))\n",
    "            \n",
    "            results['condition'].append(condition)\n",
    "            results['cell_type'].append(cov)\n",
    "            results['n_top_deg'].append(n_top_deg)\n",
    "            results['r2_mean_deg'].append(r2_mean_deg)\n",
    "            results['r2_var_deg'].append(r2_var_deg)\n",
    "            results['r2_mean_lfc_deg'].append(r2_mean_lfc_deg)\n",
    "            results['r2_var_lfc_deg'].append(r2_var_lfc_deg)\n",
    "\n",
    "df = pd.DataFrame(results)"
   ],
   "outputs": [
    {
     "name": "stderr",
     "output_type": "stream",
     "text": [
      "  0%|          | 0/16 [50:33<?, ?it/s]\n"
     ]
    },
    {
     "ename": "KeyboardInterrupt",
     "evalue": "",
     "output_type": "error",
     "traceback": [
      "\u001B[0;31m---------------------------------------------------------------------------\u001B[0m",
      "\u001B[0;31mKeyboardInterrupt\u001B[0m                         Traceback (most recent call last)",
      "Cell \u001B[0;32mIn[34], line 11\u001B[0m\n\u001B[1;32m      9\u001B[0m results \u001B[38;5;241m=\u001B[39m defaultdict(\u001B[38;5;28mlist\u001B[39m)\n\u001B[1;32m     10\u001B[0m \u001B[38;5;28;01mfor\u001B[39;00m cat \u001B[38;5;129;01min\u001B[39;00m tqdm(adata\u001B[38;5;241m.\u001B[39mobs[\u001B[38;5;124m'\u001B[39m\u001B[38;5;124mcov_drug_dose_name\u001B[39m\u001B[38;5;124m'\u001B[39m]\u001B[38;5;241m.\u001B[39munique()):\n\u001B[0;32m---> 11\u001B[0m     \u001B[38;5;28;01mif\u001B[39;00m \u001B[38;5;124m'\u001B[39m\u001B[38;5;124mcontrol\u001B[39m\u001B[38;5;124m'\u001B[39m \u001B[38;5;129;01mnot\u001B[39;00m \u001B[38;5;129;01min\u001B[39;00m cat:\n\u001B[1;32m     12\u001B[0m         cov, condition \u001B[38;5;241m=\u001B[39m cat\u001B[38;5;241m.\u001B[39msplit(\u001B[38;5;124m'\u001B[39m\u001B[38;5;124m_\u001B[39m\u001B[38;5;124m'\u001B[39m)\n\u001B[1;32m     13\u001B[0m         cat_adata \u001B[38;5;241m=\u001B[39m adata[adata\u001B[38;5;241m.\u001B[39mobs[\u001B[38;5;124m'\u001B[39m\u001B[38;5;124mcov_drug_dose_name\u001B[39m\u001B[38;5;124m'\u001B[39m] \u001B[38;5;241m==\u001B[39m cat]\u001B[38;5;241m.\u001B[39mcopy()\n",
      "Cell \u001B[0;32mIn[34], line 11\u001B[0m\n\u001B[1;32m      9\u001B[0m results \u001B[38;5;241m=\u001B[39m defaultdict(\u001B[38;5;28mlist\u001B[39m)\n\u001B[1;32m     10\u001B[0m \u001B[38;5;28;01mfor\u001B[39;00m cat \u001B[38;5;129;01min\u001B[39;00m tqdm(adata\u001B[38;5;241m.\u001B[39mobs[\u001B[38;5;124m'\u001B[39m\u001B[38;5;124mcov_drug_dose_name\u001B[39m\u001B[38;5;124m'\u001B[39m]\u001B[38;5;241m.\u001B[39munique()):\n\u001B[0;32m---> 11\u001B[0m     \u001B[38;5;28;01mif\u001B[39;00m \u001B[38;5;124m'\u001B[39m\u001B[38;5;124mcontrol\u001B[39m\u001B[38;5;124m'\u001B[39m \u001B[38;5;129;01mnot\u001B[39;00m \u001B[38;5;129;01min\u001B[39;00m cat:\n\u001B[1;32m     12\u001B[0m         cov, condition \u001B[38;5;241m=\u001B[39m cat\u001B[38;5;241m.\u001B[39msplit(\u001B[38;5;124m'\u001B[39m\u001B[38;5;124m_\u001B[39m\u001B[38;5;124m'\u001B[39m)\n\u001B[1;32m     13\u001B[0m         cat_adata \u001B[38;5;241m=\u001B[39m adata[adata\u001B[38;5;241m.\u001B[39mobs[\u001B[38;5;124m'\u001B[39m\u001B[38;5;124mcov_drug_dose_name\u001B[39m\u001B[38;5;124m'\u001B[39m] \u001B[38;5;241m==\u001B[39m cat]\u001B[38;5;241m.\u001B[39mcopy()\n",
      "File \u001B[0;32m_pydevd_bundle/pydevd_cython_darwin_39_64.pyx:1187\u001B[0m, in \u001B[0;36m_pydevd_bundle.pydevd_cython_darwin_39_64.SafeCallWrapper.__call__\u001B[0;34m()\u001B[0m\n",
      "File \u001B[0;32m_pydevd_bundle/pydevd_cython_darwin_39_64.pyx:627\u001B[0m, in \u001B[0;36m_pydevd_bundle.pydevd_cython_darwin_39_64.PyDBFrame.trace_dispatch\u001B[0;34m()\u001B[0m\n",
      "File \u001B[0;32m_pydevd_bundle/pydevd_cython_darwin_39_64.pyx:937\u001B[0m, in \u001B[0;36m_pydevd_bundle.pydevd_cython_darwin_39_64.PyDBFrame.trace_dispatch\u001B[0;34m()\u001B[0m\n",
      "File \u001B[0;32m_pydevd_bundle/pydevd_cython_darwin_39_64.pyx:928\u001B[0m, in \u001B[0;36m_pydevd_bundle.pydevd_cython_darwin_39_64.PyDBFrame.trace_dispatch\u001B[0;34m()\u001B[0m\n",
      "File \u001B[0;32m_pydevd_bundle/pydevd_cython_darwin_39_64.pyx:585\u001B[0m, in \u001B[0;36m_pydevd_bundle.pydevd_cython_darwin_39_64.PyDBFrame.do_wait_suspend\u001B[0;34m()\u001B[0m\n",
      "File \u001B[0;32m/Applications/PyCharm.app/Contents/plugins/python/helpers/pydev/pydevd.py:1185\u001B[0m, in \u001B[0;36mPyDB.do_wait_suspend\u001B[0;34m(self, thread, frame, event, arg, send_suspend_message, is_unhandled_exception)\u001B[0m\n\u001B[1;32m   1182\u001B[0m         from_this_thread\u001B[38;5;241m.\u001B[39mappend(frame_id)\n\u001B[1;32m   1184\u001B[0m \u001B[38;5;28;01mwith\u001B[39;00m \u001B[38;5;28mself\u001B[39m\u001B[38;5;241m.\u001B[39m_threads_suspended_single_notification\u001B[38;5;241m.\u001B[39mnotify_thread_suspended(thread_id, stop_reason):\n\u001B[0;32m-> 1185\u001B[0m     \u001B[38;5;28;43mself\u001B[39;49m\u001B[38;5;241;43m.\u001B[39;49m\u001B[43m_do_wait_suspend\u001B[49m\u001B[43m(\u001B[49m\u001B[43mthread\u001B[49m\u001B[43m,\u001B[49m\u001B[43m \u001B[49m\u001B[43mframe\u001B[49m\u001B[43m,\u001B[49m\u001B[43m \u001B[49m\u001B[43mevent\u001B[49m\u001B[43m,\u001B[49m\u001B[43m \u001B[49m\u001B[43marg\u001B[49m\u001B[43m,\u001B[49m\u001B[43m \u001B[49m\u001B[43msuspend_type\u001B[49m\u001B[43m,\u001B[49m\u001B[43m \u001B[49m\u001B[43mfrom_this_thread\u001B[49m\u001B[43m)\u001B[49m\n",
      "File \u001B[0;32m/Applications/PyCharm.app/Contents/plugins/python/helpers/pydev/pydevd.py:1200\u001B[0m, in \u001B[0;36mPyDB._do_wait_suspend\u001B[0;34m(self, thread, frame, event, arg, suspend_type, from_this_thread)\u001B[0m\n\u001B[1;32m   1197\u001B[0m             \u001B[38;5;28mself\u001B[39m\u001B[38;5;241m.\u001B[39m_call_mpl_hook()\n\u001B[1;32m   1199\u001B[0m         \u001B[38;5;28mself\u001B[39m\u001B[38;5;241m.\u001B[39mprocess_internal_commands()\n\u001B[0;32m-> 1200\u001B[0m         \u001B[43mtime\u001B[49m\u001B[38;5;241;43m.\u001B[39;49m\u001B[43msleep\u001B[49m\u001B[43m(\u001B[49m\u001B[38;5;241;43m0.01\u001B[39;49m\u001B[43m)\u001B[49m\n\u001B[1;32m   1202\u001B[0m \u001B[38;5;28mself\u001B[39m\u001B[38;5;241m.\u001B[39mcancel_async_evaluation(get_current_thread_id(thread), \u001B[38;5;28mstr\u001B[39m(\u001B[38;5;28mid\u001B[39m(frame)))\n\u001B[1;32m   1204\u001B[0m \u001B[38;5;66;03m# process any stepping instructions\u001B[39;00m\n",
      "\u001B[0;31mKeyboardInterrupt\u001B[0m: "
     ]
    }
   ],
   "execution_count": 34
  },
  {
   "cell_type": "code",
   "id": "514977cf",
   "metadata": {},
   "source": [
    "df"
   ],
   "outputs": [],
   "execution_count": null
  }
 ],
 "metadata": {
  "kernelspec": {
   "display_name": "Python (cpa)",
   "language": "python",
   "name": "cpa"
  },
  "language_info": {
   "codemirror_mode": {
    "name": "ipython",
    "version": 3
   },
   "file_extension": ".py",
   "mimetype": "text/x-python",
   "name": "python",
   "nbconvert_exporter": "python",
   "pygments_lexer": "ipython3",
   "version": "3.9.21"
  }
 },
 "nbformat": 4,
 "nbformat_minor": 5
}
